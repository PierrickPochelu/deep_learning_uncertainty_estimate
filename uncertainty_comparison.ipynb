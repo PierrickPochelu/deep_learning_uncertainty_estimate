{
  "cells": [
    {
      "cell_type": "code",
      "execution_count": 1,
      "metadata": {
        "id": "tEktkSDJBkZd"
      },
      "outputs": [],
      "source": [
        "NB_TRAINING_SAMPLES=-1 # -1 means \"all\"\n",
        "NB_TEST_SAMPLES=-1\n",
        "NB_EPOCHS=1\n",
        "VERBOSITY=0"
      ]
    },
    {
      "cell_type": "markdown",
      "source": [
        "# LOADING DATA"
      ],
      "metadata": {
        "id": "GgI4eJY4b6Uf"
      }
    },
    {
      "cell_type": "code",
      "execution_count": 2,
      "metadata": {
        "id": "FMQwaNbJBkZi",
        "colab": {
          "base_uri": "https://localhost:8080/"
        },
        "outputId": "064874c2-f441-4474-c99f-6f8870548247"
      },
      "outputs": [
        {
          "output_type": "stream",
          "name": "stdout",
          "text": [
            "(50000, 32, 32, 3)\n",
            "(10000, 32, 32, 3)\n",
            "(50000, 10)\n",
            "(10000, 10)\n"
          ]
        }
      ],
      "source": [
        "import tensorflow as tf\n",
        "from tensorflow.keras.utils import to_categorical\n",
        "from tensorflow.keras import datasets, layers, models, Model\n",
        "import numpy as np\n",
        "import warnings\n",
        "warnings.filterwarnings('ignore')\n",
        "\n",
        "(train_images, train_labels), (test_images, test_labels) = datasets.cifar10.load_data()\n",
        "\n",
        "if NB_TRAINING_SAMPLES!=-1:\n",
        "    train_images=train_images[:NB_TRAINING_SAMPLES]\n",
        "    train_labels=train_labels[:NB_TRAINING_SAMPLES]\n",
        "if NB_TEST_SAMPLES!=-1:\n",
        "    test_images=test_images[:NB_TEST_SAMPLES]\n",
        "    test_labels=test_labels[:NB_TEST_SAMPLES]\n",
        "\n",
        "train_images, test_images = train_images / 255.0, test_images / 255.0\n",
        "train_labels=to_categorical(train_labels).astype(np.float32)\n",
        "test_labels=to_categorical(test_labels).astype(np.float32)\n",
        "\n",
        "print(train_images.shape)\n",
        "print(test_images.shape)\n",
        "print(train_labels.shape)\n",
        "print(test_labels.shape)"
      ]
    },
    {
      "cell_type": "markdown",
      "source": [
        "# Util functions"
      ],
      "metadata": {
        "id": "5hnn8i1acBRe"
      }
    },
    {
      "cell_type": "markdown",
      "metadata": {
        "id": "odRkXFhYBkZn"
      },
      "source": [
        "TODO: https://github.com/hollance/reliability-diagrams/blob/master/reliability_diagrams.py "
      ]
    },
    {
      "cell_type": "code",
      "execution_count": 3,
      "metadata": {
        "id": "vIvyDa4uBkZo"
      },
      "outputs": [],
      "source": [
        "import tensorflow_probability as tfp\n",
        "import sklearn\n",
        "import tensorflow as tf\n",
        "from tensorflow.keras import Input, Model, optimizers, layers\n",
        "import numpy as np"
      ]
    },
    {
      "cell_type": "code",
      "execution_count": 7,
      "metadata": {
        "id": "DsnV3P1pBkZp"
      },
      "outputs": [],
      "source": [
        "def CE(target,output,epsilon=1e-7):\n",
        "    bce = target * np.log( output +epsilon) + (1-target) * np.log(  1-output+epsilon)\n",
        "    return -np.mean(bce)\n",
        "def softmax(x):\n",
        "  return np.exp(x) /  np.sum(np.exp(x), axis=-1, keepdims=True)\n",
        "\n",
        "  \n",
        "def brier_score(y,y_pred):\n",
        "    b=(y_pred-y)**2\n",
        "    return np.mean( np.sum( b , axis=-1 ) )\n",
        "def evaluate(y,y_pred,out_type=\"html\"): #out_type in set([\"html\",\"array\",\"both\"])\n",
        "  \n",
        "  labels_predicted=np.argmax(y_pred,axis=1).astype(np.int32)\n",
        "  labels_gt=np.argmax(y,axis=1).astype(np.int32)\n",
        "\n",
        "  acc=np.mean(labels_predicted==labels_gt)\n",
        "  nll=CE(y,y_pred)\n",
        "  \n",
        "  try:\n",
        "    num_bins=15 #usual value in papers\n",
        "    ece=tfp.stats.expected_calibration_error(\n",
        "      num_bins, logits=y_pred, labels_true=labels_gt, name=None\n",
        "    ).numpy()\n",
        "  except:\n",
        "    ece=np.nan\n",
        "\n",
        "  try:\n",
        "    brier=brier_score(y,y_pred)\n",
        "  except:\n",
        "    brier=np.nan\n",
        "  res_array=np.round([acc,nll, ece, brier],4)\n",
        "  res_html=f\"<td>{res_array[0]}</td><td>{res_array[1]}</td><td>{res_array[2]}</td><td>{res_array[3]}</td>\"\n",
        "  \n",
        "  if out_type==\"html\":\n",
        "    return res_html \n",
        "  elif out_type==\"array\":\n",
        "    return res_array\n",
        "  elif out_type==\"both\":\n",
        "    return res_html, res_array\n",
        "  else:\n",
        "    raise ValueError(f\"unknown type:{out_type}\")\n"
      ]
    },
    {
      "cell_type": "code",
      "execution_count": 5,
      "metadata": {
        "id": "c3kBCbJPBkZs"
      },
      "outputs": [],
      "source": [
        "def keras_model_builder(train_images, train_labels, drop_rate=0):\n",
        "    # Same than https://www.tensorflow.org/tutorials/images/cnn\n",
        "    inpx=layers.Input(shape=(32, 32, 3))\n",
        "    x=layers.Conv2D(32, (3, 3), activation='relu')(inpx)\n",
        "    if drop_rate>0:\n",
        "      x=layers.Dropout(drop_rate)(x,training=True)\n",
        "    x=layers.MaxPooling2D((2, 2))(x)\n",
        "    x=layers.Conv2D(64, (3, 3), activation='relu')(x)\n",
        "    if drop_rate>0:\n",
        "      x=layers.Dropout(drop_rate)(x,training=True)\n",
        "    x=layers.MaxPooling2D((2, 2))(x)\n",
        "    x=layers.Conv2D(64, (3, 3), activation='relu')(x)\n",
        "    x=layers.Flatten()(x)\n",
        "    if drop_rate>0:\n",
        "      x=layers.Dropout(drop_rate)(x,training=True)\n",
        "    x=layers.Dense(64, activation='relu')(x)\n",
        "    if drop_rate>0:\n",
        "      x=layers.Dropout(drop_rate)(x,training=True)\n",
        "    x=layers.Dense(10, activation='softmax')(x)\n",
        "    model=Model(inpx,x)\n",
        "    model.compile(optimizer='adam',\n",
        "              loss=tf.keras.losses.CategoricalCrossentropy())\n",
        "    history = model.fit(train_images, train_labels, epochs=NB_EPOCHS, \n",
        "                    validation_data=(test_images, test_labels),verbose=VERBOSITY)\n",
        "    return model"
      ]
    },
    {
      "cell_type": "markdown",
      "metadata": {
        "id": "2RqvkURnBkZt"
      },
      "source": [
        "# Simple DNN"
      ]
    },
    {
      "cell_type": "code",
      "execution_count": null,
      "metadata": {
        "colab": {
          "base_uri": "https://localhost:8080/"
        },
        "id": "BiBTfgOvBkZu",
        "outputId": "2026ffcd-f12f-4af5-b45f-16927a71e06d"
      },
      "outputs": [
        {
          "output_type": "stream",
          "name": "stdout",
          "text": [
            "[0.5368 0.2005 0.3844 0.5932]\n"
          ]
        }
      ],
      "source": [
        "model=keras_model_builder(train_images, train_labels)\n",
        "test_y_pred=model(test_images)\n",
        "score_info=evaluate(test_labels,test_y_pred)\n",
        "print(score_info)\n",
        "del model"
      ]
    },
    {
      "cell_type": "markdown",
      "metadata": {
        "id": "NqTQmAQyBkZu"
      },
      "source": [
        "# MC DROPOUT<br>\n",
        "URL: https://arxiv.org/pdf/1506.02142.pdf"
      ]
    },
    {
      "cell_type": "code",
      "execution_count": 13,
      "metadata": {
        "colab": {
          "base_uri": "https://localhost:8080/",
          "height": 383
        },
        "id": "KJRBdsLnBkZw",
        "outputId": "6477e26e-8f8e-43a4-ebb9-8f10cee7b4b1"
      },
      "outputs": [
        {
          "output_type": "error",
          "ename": "KeyboardInterrupt",
          "evalue": "ignored",
          "traceback": [
            "\u001b[0;31m---------------------------------------------------------------------------\u001b[0m",
            "\u001b[0;31mKeyboardInterrupt\u001b[0m                         Traceback (most recent call last)",
            "\u001b[0;32m<ipython-input-13-f99ade93685f>\u001b[0m in \u001b[0;36m<module>\u001b[0;34m\u001b[0m\n\u001b[1;32m      1\u001b[0m \u001b[0;32mfor\u001b[0m \u001b[0md\u001b[0m \u001b[0;32min\u001b[0m \u001b[0;34m[\u001b[0m\u001b[0;36m0.2\u001b[0m\u001b[0;34m]\u001b[0m\u001b[0;34m:\u001b[0m \u001b[0;31m# Value used in the original paper 0.1 0.05 0.005\u001b[0m\u001b[0;34m\u001b[0m\u001b[0;34m\u001b[0m\u001b[0m\n\u001b[0;32m----> 2\u001b[0;31m   \u001b[0mmodel\u001b[0m\u001b[0;34m=\u001b[0m\u001b[0mkeras_model_builder\u001b[0m\u001b[0;34m(\u001b[0m\u001b[0mtrain_images\u001b[0m\u001b[0;34m,\u001b[0m \u001b[0mtrain_labels\u001b[0m\u001b[0;34m,\u001b[0m \u001b[0mdrop_rate\u001b[0m\u001b[0;34m=\u001b[0m\u001b[0md\u001b[0m\u001b[0;34m)\u001b[0m\u001b[0;34m\u001b[0m\u001b[0;34m\u001b[0m\u001b[0m\n\u001b[0m\u001b[1;32m      3\u001b[0m   \u001b[0miters\u001b[0m\u001b[0;34m=\u001b[0m\u001b[0;36m64\u001b[0m \u001b[0;31m# original paper (10)\u001b[0m\u001b[0;34m\u001b[0m\u001b[0;34m\u001b[0m\u001b[0m\n\u001b[1;32m      4\u001b[0m   \u001b[0mtest_y_pred\u001b[0m\u001b[0;34m=\u001b[0m\u001b[0mnp\u001b[0m\u001b[0;34m.\u001b[0m\u001b[0mzeros\u001b[0m\u001b[0;34m(\u001b[0m\u001b[0mtest_labels\u001b[0m\u001b[0;34m.\u001b[0m\u001b[0mshape\u001b[0m\u001b[0;34m)\u001b[0m\u001b[0;34m\u001b[0m\u001b[0;34m\u001b[0m\u001b[0m\n\u001b[1;32m      5\u001b[0m   \u001b[0;32mfor\u001b[0m \u001b[0mi\u001b[0m \u001b[0;32min\u001b[0m \u001b[0mrange\u001b[0m\u001b[0;34m(\u001b[0m\u001b[0miters\u001b[0m\u001b[0;34m)\u001b[0m\u001b[0;34m:\u001b[0m\u001b[0;34m\u001b[0m\u001b[0;34m\u001b[0m\u001b[0m\n",
            "\u001b[0;32m<ipython-input-5-32ff50ca54eb>\u001b[0m in \u001b[0;36mkeras_model_builder\u001b[0;34m(train_images, train_labels, drop_rate)\u001b[0m\n\u001b[1;32m     22\u001b[0m               loss=tf.keras.losses.CategoricalCrossentropy())\n\u001b[1;32m     23\u001b[0m     history = model.fit(train_images, train_labels, epochs=NB_EPOCHS, \n\u001b[0;32m---> 24\u001b[0;31m                     validation_data=(test_images, test_labels),verbose=VERBOSITY)\n\u001b[0m\u001b[1;32m     25\u001b[0m     \u001b[0;32mreturn\u001b[0m \u001b[0mmodel\u001b[0m\u001b[0;34m\u001b[0m\u001b[0;34m\u001b[0m\u001b[0m\n",
            "\u001b[0;32m/usr/local/lib/python3.7/dist-packages/keras/utils/traceback_utils.py\u001b[0m in \u001b[0;36merror_handler\u001b[0;34m(*args, **kwargs)\u001b[0m\n\u001b[1;32m     62\u001b[0m     \u001b[0mfiltered_tb\u001b[0m \u001b[0;34m=\u001b[0m \u001b[0;32mNone\u001b[0m\u001b[0;34m\u001b[0m\u001b[0;34m\u001b[0m\u001b[0m\n\u001b[1;32m     63\u001b[0m     \u001b[0;32mtry\u001b[0m\u001b[0;34m:\u001b[0m\u001b[0;34m\u001b[0m\u001b[0;34m\u001b[0m\u001b[0m\n\u001b[0;32m---> 64\u001b[0;31m       \u001b[0;32mreturn\u001b[0m \u001b[0mfn\u001b[0m\u001b[0;34m(\u001b[0m\u001b[0;34m*\u001b[0m\u001b[0margs\u001b[0m\u001b[0;34m,\u001b[0m \u001b[0;34m**\u001b[0m\u001b[0mkwargs\u001b[0m\u001b[0;34m)\u001b[0m\u001b[0;34m\u001b[0m\u001b[0;34m\u001b[0m\u001b[0m\n\u001b[0m\u001b[1;32m     65\u001b[0m     \u001b[0;32mexcept\u001b[0m \u001b[0mException\u001b[0m \u001b[0;32mas\u001b[0m \u001b[0me\u001b[0m\u001b[0;34m:\u001b[0m  \u001b[0;31m# pylint: disable=broad-except\u001b[0m\u001b[0;34m\u001b[0m\u001b[0;34m\u001b[0m\u001b[0m\n\u001b[1;32m     66\u001b[0m       \u001b[0mfiltered_tb\u001b[0m \u001b[0;34m=\u001b[0m \u001b[0m_process_traceback_frames\u001b[0m\u001b[0;34m(\u001b[0m\u001b[0me\u001b[0m\u001b[0;34m.\u001b[0m\u001b[0m__traceback__\u001b[0m\u001b[0;34m)\u001b[0m\u001b[0;34m\u001b[0m\u001b[0;34m\u001b[0m\u001b[0m\n",
            "\u001b[0;32m/usr/local/lib/python3.7/dist-packages/keras/engine/training.py\u001b[0m in \u001b[0;36mfit\u001b[0;34m(self, x, y, batch_size, epochs, verbose, callbacks, validation_split, validation_data, shuffle, class_weight, sample_weight, initial_epoch, steps_per_epoch, validation_steps, validation_batch_size, validation_freq, max_queue_size, workers, use_multiprocessing)\u001b[0m\n\u001b[1;32m   1407\u001b[0m                 _r=1):\n\u001b[1;32m   1408\u001b[0m               \u001b[0mcallbacks\u001b[0m\u001b[0;34m.\u001b[0m\u001b[0mon_train_batch_begin\u001b[0m\u001b[0;34m(\u001b[0m\u001b[0mstep\u001b[0m\u001b[0;34m)\u001b[0m\u001b[0;34m\u001b[0m\u001b[0;34m\u001b[0m\u001b[0m\n\u001b[0;32m-> 1409\u001b[0;31m               \u001b[0mtmp_logs\u001b[0m \u001b[0;34m=\u001b[0m \u001b[0mself\u001b[0m\u001b[0;34m.\u001b[0m\u001b[0mtrain_function\u001b[0m\u001b[0;34m(\u001b[0m\u001b[0miterator\u001b[0m\u001b[0;34m)\u001b[0m\u001b[0;34m\u001b[0m\u001b[0;34m\u001b[0m\u001b[0m\n\u001b[0m\u001b[1;32m   1410\u001b[0m               \u001b[0;32mif\u001b[0m \u001b[0mdata_handler\u001b[0m\u001b[0;34m.\u001b[0m\u001b[0mshould_sync\u001b[0m\u001b[0;34m:\u001b[0m\u001b[0;34m\u001b[0m\u001b[0;34m\u001b[0m\u001b[0m\n\u001b[1;32m   1411\u001b[0m                 \u001b[0mcontext\u001b[0m\u001b[0;34m.\u001b[0m\u001b[0masync_wait\u001b[0m\u001b[0;34m(\u001b[0m\u001b[0;34m)\u001b[0m\u001b[0;34m\u001b[0m\u001b[0;34m\u001b[0m\u001b[0m\n",
            "\u001b[0;32m/usr/local/lib/python3.7/dist-packages/tensorflow/python/util/traceback_utils.py\u001b[0m in \u001b[0;36merror_handler\u001b[0;34m(*args, **kwargs)\u001b[0m\n\u001b[1;32m    148\u001b[0m     \u001b[0mfiltered_tb\u001b[0m \u001b[0;34m=\u001b[0m \u001b[0;32mNone\u001b[0m\u001b[0;34m\u001b[0m\u001b[0;34m\u001b[0m\u001b[0m\n\u001b[1;32m    149\u001b[0m     \u001b[0;32mtry\u001b[0m\u001b[0;34m:\u001b[0m\u001b[0;34m\u001b[0m\u001b[0;34m\u001b[0m\u001b[0m\n\u001b[0;32m--> 150\u001b[0;31m       \u001b[0;32mreturn\u001b[0m \u001b[0mfn\u001b[0m\u001b[0;34m(\u001b[0m\u001b[0;34m*\u001b[0m\u001b[0margs\u001b[0m\u001b[0;34m,\u001b[0m \u001b[0;34m**\u001b[0m\u001b[0mkwargs\u001b[0m\u001b[0;34m)\u001b[0m\u001b[0;34m\u001b[0m\u001b[0;34m\u001b[0m\u001b[0m\n\u001b[0m\u001b[1;32m    151\u001b[0m     \u001b[0;32mexcept\u001b[0m \u001b[0mException\u001b[0m \u001b[0;32mas\u001b[0m \u001b[0me\u001b[0m\u001b[0;34m:\u001b[0m\u001b[0;34m\u001b[0m\u001b[0;34m\u001b[0m\u001b[0m\n\u001b[1;32m    152\u001b[0m       \u001b[0mfiltered_tb\u001b[0m \u001b[0;34m=\u001b[0m \u001b[0m_process_traceback_frames\u001b[0m\u001b[0;34m(\u001b[0m\u001b[0me\u001b[0m\u001b[0;34m.\u001b[0m\u001b[0m__traceback__\u001b[0m\u001b[0;34m)\u001b[0m\u001b[0;34m\u001b[0m\u001b[0;34m\u001b[0m\u001b[0m\n",
            "\u001b[0;32m/usr/local/lib/python3.7/dist-packages/tensorflow/python/eager/def_function.py\u001b[0m in \u001b[0;36m__call__\u001b[0;34m(self, *args, **kwds)\u001b[0m\n\u001b[1;32m    913\u001b[0m \u001b[0;34m\u001b[0m\u001b[0m\n\u001b[1;32m    914\u001b[0m       \u001b[0;32mwith\u001b[0m \u001b[0mOptionalXlaContext\u001b[0m\u001b[0;34m(\u001b[0m\u001b[0mself\u001b[0m\u001b[0;34m.\u001b[0m\u001b[0m_jit_compile\u001b[0m\u001b[0;34m)\u001b[0m\u001b[0;34m:\u001b[0m\u001b[0;34m\u001b[0m\u001b[0;34m\u001b[0m\u001b[0m\n\u001b[0;32m--> 915\u001b[0;31m         \u001b[0mresult\u001b[0m \u001b[0;34m=\u001b[0m \u001b[0mself\u001b[0m\u001b[0;34m.\u001b[0m\u001b[0m_call\u001b[0m\u001b[0;34m(\u001b[0m\u001b[0;34m*\u001b[0m\u001b[0margs\u001b[0m\u001b[0;34m,\u001b[0m \u001b[0;34m**\u001b[0m\u001b[0mkwds\u001b[0m\u001b[0;34m)\u001b[0m\u001b[0;34m\u001b[0m\u001b[0;34m\u001b[0m\u001b[0m\n\u001b[0m\u001b[1;32m    916\u001b[0m \u001b[0;34m\u001b[0m\u001b[0m\n\u001b[1;32m    917\u001b[0m       \u001b[0mnew_tracing_count\u001b[0m \u001b[0;34m=\u001b[0m \u001b[0mself\u001b[0m\u001b[0;34m.\u001b[0m\u001b[0mexperimental_get_tracing_count\u001b[0m\u001b[0;34m(\u001b[0m\u001b[0;34m)\u001b[0m\u001b[0;34m\u001b[0m\u001b[0;34m\u001b[0m\u001b[0m\n",
            "\u001b[0;32m/usr/local/lib/python3.7/dist-packages/tensorflow/python/eager/def_function.py\u001b[0m in \u001b[0;36m_call\u001b[0;34m(self, *args, **kwds)\u001b[0m\n\u001b[1;32m    945\u001b[0m       \u001b[0;31m# In this case we have created variables on the first call, so we run the\u001b[0m\u001b[0;34m\u001b[0m\u001b[0;34m\u001b[0m\u001b[0;34m\u001b[0m\u001b[0m\n\u001b[1;32m    946\u001b[0m       \u001b[0;31m# defunned version which is guaranteed to never create variables.\u001b[0m\u001b[0;34m\u001b[0m\u001b[0;34m\u001b[0m\u001b[0;34m\u001b[0m\u001b[0m\n\u001b[0;32m--> 947\u001b[0;31m       \u001b[0;32mreturn\u001b[0m \u001b[0mself\u001b[0m\u001b[0;34m.\u001b[0m\u001b[0m_stateless_fn\u001b[0m\u001b[0;34m(\u001b[0m\u001b[0;34m*\u001b[0m\u001b[0margs\u001b[0m\u001b[0;34m,\u001b[0m \u001b[0;34m**\u001b[0m\u001b[0mkwds\u001b[0m\u001b[0;34m)\u001b[0m  \u001b[0;31m# pylint: disable=not-callable\u001b[0m\u001b[0;34m\u001b[0m\u001b[0;34m\u001b[0m\u001b[0m\n\u001b[0m\u001b[1;32m    948\u001b[0m     \u001b[0;32melif\u001b[0m \u001b[0mself\u001b[0m\u001b[0;34m.\u001b[0m\u001b[0m_stateful_fn\u001b[0m \u001b[0;32mis\u001b[0m \u001b[0;32mnot\u001b[0m \u001b[0;32mNone\u001b[0m\u001b[0;34m:\u001b[0m\u001b[0;34m\u001b[0m\u001b[0;34m\u001b[0m\u001b[0m\n\u001b[1;32m    949\u001b[0m       \u001b[0;31m# Release the lock early so that multiple threads can perform the call\u001b[0m\u001b[0;34m\u001b[0m\u001b[0;34m\u001b[0m\u001b[0;34m\u001b[0m\u001b[0m\n",
            "\u001b[0;32m/usr/local/lib/python3.7/dist-packages/tensorflow/python/eager/function.py\u001b[0m in \u001b[0;36m__call__\u001b[0;34m(self, *args, **kwargs)\u001b[0m\n\u001b[1;32m   2452\u001b[0m        filtered_flat_args) = self._maybe_define_function(args, kwargs)\n\u001b[1;32m   2453\u001b[0m     return graph_function._call_flat(\n\u001b[0;32m-> 2454\u001b[0;31m         filtered_flat_args, captured_inputs=graph_function.captured_inputs)  # pylint: disable=protected-access\n\u001b[0m\u001b[1;32m   2455\u001b[0m \u001b[0;34m\u001b[0m\u001b[0m\n\u001b[1;32m   2456\u001b[0m   \u001b[0;34m@\u001b[0m\u001b[0mproperty\u001b[0m\u001b[0;34m\u001b[0m\u001b[0;34m\u001b[0m\u001b[0m\n",
            "\u001b[0;32m/usr/local/lib/python3.7/dist-packages/tensorflow/python/eager/function.py\u001b[0m in \u001b[0;36m_call_flat\u001b[0;34m(self, args, captured_inputs, cancellation_manager)\u001b[0m\n\u001b[1;32m   1859\u001b[0m       \u001b[0;31m# No tape is watching; skip to running the function.\u001b[0m\u001b[0;34m\u001b[0m\u001b[0;34m\u001b[0m\u001b[0;34m\u001b[0m\u001b[0m\n\u001b[1;32m   1860\u001b[0m       return self._build_call_outputs(self._inference_function.call(\n\u001b[0;32m-> 1861\u001b[0;31m           ctx, args, cancellation_manager=cancellation_manager))\n\u001b[0m\u001b[1;32m   1862\u001b[0m     forward_backward = self._select_forward_and_backward_functions(\n\u001b[1;32m   1863\u001b[0m         \u001b[0margs\u001b[0m\u001b[0;34m,\u001b[0m\u001b[0;34m\u001b[0m\u001b[0;34m\u001b[0m\u001b[0m\n",
            "\u001b[0;32m/usr/local/lib/python3.7/dist-packages/tensorflow/python/eager/function.py\u001b[0m in \u001b[0;36mcall\u001b[0;34m(self, ctx, args, cancellation_manager)\u001b[0m\n\u001b[1;32m    500\u001b[0m               \u001b[0minputs\u001b[0m\u001b[0;34m=\u001b[0m\u001b[0margs\u001b[0m\u001b[0;34m,\u001b[0m\u001b[0;34m\u001b[0m\u001b[0;34m\u001b[0m\u001b[0m\n\u001b[1;32m    501\u001b[0m               \u001b[0mattrs\u001b[0m\u001b[0;34m=\u001b[0m\u001b[0mattrs\u001b[0m\u001b[0;34m,\u001b[0m\u001b[0;34m\u001b[0m\u001b[0;34m\u001b[0m\u001b[0m\n\u001b[0;32m--> 502\u001b[0;31m               ctx=ctx)\n\u001b[0m\u001b[1;32m    503\u001b[0m         \u001b[0;32melse\u001b[0m\u001b[0;34m:\u001b[0m\u001b[0;34m\u001b[0m\u001b[0;34m\u001b[0m\u001b[0m\n\u001b[1;32m    504\u001b[0m           outputs = execute.execute_with_cancellation(\n",
            "\u001b[0;32m/usr/local/lib/python3.7/dist-packages/tensorflow/python/eager/execute.py\u001b[0m in \u001b[0;36mquick_execute\u001b[0;34m(op_name, num_outputs, inputs, attrs, ctx, name)\u001b[0m\n\u001b[1;32m     53\u001b[0m     \u001b[0mctx\u001b[0m\u001b[0;34m.\u001b[0m\u001b[0mensure_initialized\u001b[0m\u001b[0;34m(\u001b[0m\u001b[0;34m)\u001b[0m\u001b[0;34m\u001b[0m\u001b[0;34m\u001b[0m\u001b[0m\n\u001b[1;32m     54\u001b[0m     tensors = pywrap_tfe.TFE_Py_Execute(ctx._handle, device_name, op_name,\n\u001b[0;32m---> 55\u001b[0;31m                                         inputs, attrs, num_outputs)\n\u001b[0m\u001b[1;32m     56\u001b[0m   \u001b[0;32mexcept\u001b[0m \u001b[0mcore\u001b[0m\u001b[0;34m.\u001b[0m\u001b[0m_NotOkStatusException\u001b[0m \u001b[0;32mas\u001b[0m \u001b[0me\u001b[0m\u001b[0;34m:\u001b[0m\u001b[0;34m\u001b[0m\u001b[0;34m\u001b[0m\u001b[0m\n\u001b[1;32m     57\u001b[0m     \u001b[0;32mif\u001b[0m \u001b[0mname\u001b[0m \u001b[0;32mis\u001b[0m \u001b[0;32mnot\u001b[0m \u001b[0;32mNone\u001b[0m\u001b[0;34m:\u001b[0m\u001b[0;34m\u001b[0m\u001b[0;34m\u001b[0m\u001b[0m\n",
            "\u001b[0;31mKeyboardInterrupt\u001b[0m: "
          ]
        }
      ],
      "source": [
        "for d in [0.2]: # Value used in the original paper 0.1 0.05 0.005\n",
        "  model=keras_model_builder(train_images, train_labels, drop_rate=d)\n",
        "  iters=64 # original paper (10)\n",
        "  test_y_pred=np.zeros(test_labels.shape)\n",
        "  for i in range(iters):\n",
        "      test_y_pred+=model(test_images)\n",
        "      if (i+1) in set([4, 8, 16, 32]):\n",
        "        score_info=evaluate(test_labels,test_y_pred/(i+1))\n",
        "        print(f\"<tr><td>MC-drop rate={d}</td><td>1</td><td>{i+1}</td>{score_info}</tr>\")\n",
        "  del model"
      ]
    },
    {
      "cell_type": "markdown",
      "metadata": {
        "id": "FOKc93_kBkZw"
      },
      "source": [
        "# ENSEMBLE OF DNN<br>\n",
        "URL: https://proceedings.neurips.cc/paper/2017/file/9ef2ed4b7fd2c810847ffa5fa85bce38-Paper.pdf"
      ]
    },
    {
      "cell_type": "code",
      "execution_count": 9,
      "metadata": {
        "colab": {
          "base_uri": "https://localhost:8080/"
        },
        "id": "PA9QPvHuBkZx",
        "outputId": "99d27090-b04d-421a-96a8-bf3ff904c521"
      },
      "outputs": [
        {
          "output_type": "stream",
          "name": "stdout",
          "text": [
            "<tr><td>Ensemble</td><td>1</td><td>1</td><td>0.5353</td><td>0.2021</td><td>0.3782</td><td>0.5967</td></tr>\n",
            "<tr><td>Ensemble</td><td>2</td><td>2</td><td>0.5757</td><td>0.1876</td><td>0.4212</td><td>0.5535</td></tr>\n",
            "<tr><td>Ensemble</td><td>3</td><td>3</td><td>0.5761</td><td>0.1881</td><td>0.424</td><td>0.5555</td></tr>\n",
            "<tr><td>Ensemble</td><td>4</td><td>4</td><td>0.5776</td><td>0.1885</td><td>0.4262</td><td>0.5569</td></tr>\n",
            "<tr><td>Ensemble</td><td>5</td><td>5</td><td>0.5786</td><td>0.1883</td><td>0.4279</td><td>0.5561</td></tr>\n",
            "<tr><td>Ensemble</td><td>6</td><td>6</td><td>0.5789</td><td>0.1877</td><td>0.4281</td><td>0.5548</td></tr>\n",
            "<tr><td>Ensemble</td><td>7</td><td>7</td><td>0.5828</td><td>0.1863</td><td>0.4316</td><td>0.55</td></tr>\n",
            "<tr><td>Ensemble</td><td>8</td><td>8</td><td>0.5855</td><td>0.1864</td><td>0.4346</td><td>0.5502</td></tr>\n",
            "<tr><td>Ensemble</td><td>9</td><td>9</td><td>0.586</td><td>0.186</td><td>0.4355</td><td>0.5492</td></tr>\n",
            "<tr><td>Ensemble</td><td>10</td><td>10</td><td>0.5883</td><td>0.1856</td><td>0.4379</td><td>0.5477</td></tr>\n",
            "<tr><td>Ensemble</td><td>11</td><td>11</td><td>0.5901</td><td>0.1854</td><td>0.4398</td><td>0.5471</td></tr>\n",
            "<tr><td>Ensemble</td><td>12</td><td>12</td><td>0.595</td><td>0.1846</td><td>0.4447</td><td>0.5444</td></tr>\n",
            "<tr><td>Ensemble</td><td>13</td><td>13</td><td>0.5963</td><td>0.185</td><td>0.4467</td><td>0.5453</td></tr>\n",
            "<tr><td>Ensemble</td><td>14</td><td>14</td><td>0.5951</td><td>0.185</td><td>0.4456</td><td>0.5455</td></tr>\n",
            "<tr><td>Ensemble</td><td>15</td><td>15</td><td>0.597</td><td>0.1843</td><td>0.4474</td><td>0.5432</td></tr>\n",
            "<tr><td>Ensemble</td><td>16</td><td>16</td><td>0.5981</td><td>0.1842</td><td>0.4484</td><td>0.5431</td></tr>\n"
          ]
        }
      ],
      "source": [
        "import numpy as np\n",
        "max_ensemble_size=16\n",
        "global_preds=np.zeros(test_labels.shape)\n",
        "for i in range(max_ensemble_size):\n",
        "  model=keras_model_builder(train_images, train_labels) # create independant training\n",
        "  global_preds+=model(test_images)\n",
        "  del model\n",
        "  ensemble_i_pred=global_preds/(i+1)\n",
        "  score_info=evaluate(test_labels, ensemble_i_pred)\n",
        "  print(f\"<tr><td>Ensemble</td><td>{i+1}</td><td>{i+1}</td>{score_info}</tr>\")"
      ]
    },
    {
      "cell_type": "markdown",
      "metadata": {
        "id": "emuKH5ZHBkZy"
      },
      "source": [
        "# Variational inference with TF PROBA"
      ]
    },
    {
      "cell_type": "code",
      "execution_count": 32,
      "metadata": {
        "id": "Yu0bqaLxBkZz"
      },
      "outputs": [],
      "source": [
        "import tensorflow_probability as tfp\n",
        "from tensorflow_probability.python.layers import util as tfp_layers_util\n",
        "from tensorflow_probability.python.distributions import kullback_leibler as kl_lib\n",
        "from tensorflow_probability import distributions as tfd\n",
        "\n",
        "kernel_posterior_scale_mean=-9.0\n",
        "kernel_posterior_scale_stddev=0.1\n",
        "kernel_posterior_scale_constraint=0.2\n",
        "\n",
        "def nll(y_true, y_pred):\n",
        "    return -y_pred.log_prob(y_true)\n",
        "def approximate_kl(q, p, q_tensor):\n",
        "    return tf.reduce_mean(q.log_prob(q_tensor) - p.log_prob(q_tensor))\n",
        "def _untransformed_scale_constraint(t):\n",
        "     # value used: https://github.com/tensorflow/probability/blob/main/tensorflow_probability/examples/models/bayesian_vgg.py\n",
        "    return tf.clip_by_value(t, -1000,tf.math.log(kernel_posterior_scale_constraint))\n",
        "\n",
        "total_samples = len(train_images)\n",
        "divergence_fn = lambda q, p, q_tensor : approximate_kl(q, p, q_tensor) / total_samples\n",
        "\n",
        "def prior_trainable(kernel_size, bias_size=0, dtype=None):\n",
        "  # Specify the prior over keras.layers.Dense kernel and bias.\n",
        "  n = kernel_size + bias_size\n",
        "  return tf.keras.Sequential([\n",
        "      tfp.layers.VariableLayer(n, dtype=dtype),\n",
        "      tfp.layers.DistributionLambda(lambda t: tfd.Independent(\n",
        "          tfd.Normal(loc=t, scale=1),\n",
        "          reinterpreted_batch_ndims=1)),\n",
        "  ])\n",
        "# Specify the surrogate posterior over `keras.layers.Dense` `kernel` and `bias`.\n",
        "def posterior_mean_field(kernel_size, bias_size=0, dtype=None):\n",
        "  n = kernel_size + bias_size\n",
        "  c = np.log(np.expm1(1.))\n",
        "  return tf.keras.Sequential([\n",
        "      tfp.layers.VariableLayer(2 * n, dtype=dtype),\n",
        "      tfp.layers.DistributionLambda(lambda t: tfd.Independent(\n",
        "          tfd.Normal(loc=t[..., :n],\n",
        "                     scale=1e-5 + tf.nn.softplus(c + t[..., n:])),\n",
        "          reinterpreted_batch_ndims=1)),\n",
        "  ])\n",
        "kernel_posterior_fn = tfp.layers.default_mean_field_normal_fn(\n",
        "    untransformed_scale_initializer=tf.compat.v1.initializers.random_normal(\n",
        "        mean=kernel_posterior_scale_mean,\n",
        "        stddev=kernel_posterior_scale_stddev),\n",
        "    untransformed_scale_constraint=_untransformed_scale_constraint)\n",
        "  \n",
        "def tfp_model(nb_output=10,two_layer=True):\n",
        "    #model = models.Sequential()# https://www.tensorflow.org/tutorials/images/cnn\n",
        "    inpx=layers.Input(shape=(32, 32, 3))\n",
        "    x=layers.Conv2D(32, (3, 3), activation='relu')(inpx)\n",
        "    x=layers.MaxPooling2D((2, 2))(x)\n",
        "    x=layers.Conv2D(64, (3, 3), activation='relu')(x)\n",
        "    x=layers.MaxPooling2D((2, 2))(x)\n",
        "    x=layers.Conv2D(64, (3, 3), activation='relu')(x)\n",
        "    x=layers.Flatten()(x)\n",
        "    \n",
        "    # 2 mode: variatonal mode and stand mode\n",
        "    if two_layer:\n",
        "      x=tfp.layers.DenseReparameterization(\n",
        "          units = 64, activation = 'LeakyReLU',\n",
        "          kernel_posterior_fn = tfp.layers.default_mean_field_normal_fn(is_singular=False),\n",
        "          kernel_prior_fn = tfp.layers.default_multivariate_normal_fn,\n",
        "          bias_prior_fn = tfp.layers.default_multivariate_normal_fn,\n",
        "          bias_posterior_fn = tfp.layers.default_mean_field_normal_fn(is_singular=False),\n",
        "          kernel_divergence_fn = divergence_fn,\n",
        "          bias_divergence_fn = divergence_fn\n",
        "      )(x)\n",
        "    else:\n",
        "      x=layers.Dense(64, activation='relu')(x)\n",
        "    \n",
        "    x=tfp.layers.DenseReparameterization( #https://towardsdatascience.com/uncertainty-in-deep-learning-bayesian-cnn-tensorflow-probability-758d7482bef6\n",
        "        units = tfp.layers.OneHotCategorical.params_size(nb_output), activation = None,\n",
        "        kernel_posterior_fn = tfp.layers.default_mean_field_normal_fn(is_singular=False),\n",
        "        kernel_prior_fn = tfp.layers.default_multivariate_normal_fn,\n",
        "        bias_prior_fn = tfp.layers.default_multivariate_normal_fn,\n",
        "        bias_posterior_fn = tfp.layers.default_mean_field_normal_fn(is_singular=False),\n",
        "        kernel_divergence_fn = divergence_fn,\n",
        "        bias_divergence_fn = divergence_fn\n",
        "    )(x)\n",
        "    model=Model(inpx,x)\n",
        "    \n",
        "    def myloss(y,y_):\n",
        "      neg_log_likelihood = tf.nn.softmax_cross_entropy_with_logits(\n",
        "      labels=y, logits=y_)\n",
        "      kl=sum(model.losses)\n",
        "      loss = neg_log_likelihood + 0.001*kl\n",
        "      return loss\n",
        "    model.compile(optimizer=tf.optimizers.Adam(), loss=myloss, metrics=['accuracy'])\n",
        "    history = model.fit(train_images, train_labels, epochs=NB_EPOCHS, validation_data=(test_images, test_labels), verbose=VERBOSITY)\n",
        "    return model"
      ]
    },
    {
      "cell_type": "code",
      "execution_count": 34,
      "metadata": {
        "colab": {
          "base_uri": "https://localhost:8080/"
        },
        "id": "W6t-5T_DBkZ2",
        "outputId": "ba0e9f3c-2ade-4cf4-eee8-c7ad2b47bc74"
      },
      "outputs": [
        {
          "output_type": "stream",
          "name": "stdout",
          "text": [
            "<tr><td>True</td><td>1</td><td>4</td><td>0.554</td><td>0.1949</td><td>0.3989</td><td>0.5749</td></tr>\n",
            "<tr><td>True</td><td>1</td><td>16</td><td>0.5587</td><td>0.1942</td><td>0.404</td><td>0.5729</td></tr>\n",
            "<tr><td>True</td><td>1</td><td>64</td><td>0.561</td><td>0.194</td><td>0.4064</td><td>0.5722</td></tr>\n",
            "<tr><td>False</td><td>1</td><td>4</td><td>0.5268</td><td>0.2046</td><td>0.3786</td><td>0.605</td></tr>\n",
            "<tr><td>False</td><td>1</td><td>16</td><td>0.5278</td><td>0.2037</td><td>0.3799</td><td>0.6021</td></tr>\n",
            "<tr><td>False</td><td>1</td><td>64</td><td>0.53</td><td>0.2036</td><td>0.3822</td><td>0.6019</td></tr>\n"
          ]
        }
      ],
      "source": [
        "for two_varia_layer in [True, False]:\n",
        "  # train\n",
        "  model=tfp_model(two_layer=two_varia_layer)\n",
        "\n",
        "  # predict\n",
        "  global_preds=np.zeros(test_labels.shape)\n",
        "  for i in range(64):\n",
        "    logit=model.predict(test_images,verbose=VERBOSITY)\n",
        "    global_preds+=softmax(logit)\n",
        "    if (i+1)==4 or (i+1)==16 or (i+1)==64:\n",
        "      score_info=evaluate(test_labels,global_preds.astype(np.float32)/(i+1.))\n",
        "      print(f\"<tr><td>{two_varia_layer}</td><td>1</td><td>{i+1}</td>{score_info}</tr>\")"
      ]
    },
    {
      "cell_type": "markdown",
      "metadata": {
        "id": "ds6xXWcwBkZ2"
      },
      "source": [
        "# TEMPERATURE SCALING<br>\n",
        "URL:https://arxiv.org/pdf/1706.04599.pdf"
      ]
    },
    {
      "cell_type": "code",
      "execution_count": null,
      "metadata": {
        "id": "qkGcNN44BkZ3"
      },
      "outputs": [],
      "source": [
        "for training_rate in [0.1, 0.01, 0.001]:\n",
        "  # get training/validation split data\n",
        "  p=int(len(train_images)*(1-training_rate))\n",
        "  model=keras_model_builder(train_images[:p], train_labels[:p])\n",
        "  \n",
        "  # get predictions\n",
        "  valid_raw_y_pred=model.predict(train_images[p:],verbose=VERBOSITY)\n",
        "  test_raw_y_pred=model.predict(test_images,verbose=VERBOSITY)\n",
        "\n",
        "  del model\n",
        "\n",
        "  # fit the temperature parameter\n",
        "  id_criterion=1 # LLN criteria, like the linked paper on temperature scale\n",
        "  valid_scores=[]\n",
        "  info=[]\n",
        "  for i in range(-10,30+1,1):\n",
        "    t=1.2**float(i)\n",
        "    valid_y_pred=softmax(softmax(valid_raw_y_pred)*t)\n",
        "    test_y_pred=softmax(softmax(test_raw_y_pred)*t)\n",
        "    \n",
        "    valid_info_html, valid_info_array=evaluate(train_labels[p:], valid_y_pred, out_type=\"both\")\n",
        "    test_info_html, test_info_array=evaluate(test_labels, test_y_pred, out_type=\"both\")\n",
        "\n",
        "    if not np.isnan(float(valid_info_array[id_criterion])):\n",
        "      valid_scores.append( valid_info_array[id_criterion] )\n",
        "    info.append( f\"<tr><td>{training_rate}</td><td>1</td><td>1</td>{test_info_html}</tr>\" )\n",
        "\n",
        "  # display the result\n",
        "  best_temp_id=np.argmin(valid_scores)\n",
        "  print(info[best_temp_id])"
      ]
    }
  ],
  "metadata": {
    "kernelspec": {
      "display_name": "Python 3",
      "language": "python",
      "name": "python3"
    },
    "language_info": {
      "codemirror_mode": {
        "name": "ipython",
        "version": 3
      },
      "file_extension": ".py",
      "mimetype": "text/x-python",
      "name": "python",
      "nbconvert_exporter": "python",
      "pygments_lexer": "ipython3",
      "version": "3.6.4"
    },
    "colab": {
      "provenance": [],
      "collapsed_sections": []
    }
  },
  "nbformat": 4,
  "nbformat_minor": 0
}